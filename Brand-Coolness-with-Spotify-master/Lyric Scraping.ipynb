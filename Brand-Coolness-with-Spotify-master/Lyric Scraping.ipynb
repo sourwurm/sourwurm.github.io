{
 "cells": [
  {
   "cell_type": "code",
   "execution_count": 1,
   "metadata": {},
   "outputs": [],
   "source": [
    "import pandas as pd\n",
    "import numpy as np\n",
    "\n",
    "import re\n",
    "\n",
    "import requests\n",
    "from requests.adapters import HTTPAdapter\n",
    "from requests.packages.urllib3.util.retry import Retry\n",
    "\n",
    "from bs4 import BeautifulSoup"
   ]
  },
  {
   "cell_type": "code",
   "execution_count": 2,
   "metadata": {},
   "outputs": [],
   "source": [
    "my_tracks = pd.read_csv('my_tracks.csv')"
   ]
  },
  {
   "cell_type": "code",
   "execution_count": 3,
   "metadata": {
    "scrolled": true
   },
   "outputs": [
    {
     "data": {
      "text/html": [
       "<div>\n",
       "<style scoped>\n",
       "    .dataframe tbody tr th:only-of-type {\n",
       "        vertical-align: middle;\n",
       "    }\n",
       "\n",
       "    .dataframe tbody tr th {\n",
       "        vertical-align: top;\n",
       "    }\n",
       "\n",
       "    .dataframe thead th {\n",
       "        text-align: right;\n",
       "    }\n",
       "</style>\n",
       "<table border=\"1\" class=\"dataframe\">\n",
       "  <thead>\n",
       "    <tr style=\"text-align: right;\">\n",
       "      <th></th>\n",
       "      <th>track</th>\n",
       "      <th>artist</th>\n",
       "    </tr>\n",
       "  </thead>\n",
       "  <tbody>\n",
       "    <tr>\n",
       "      <th>0</th>\n",
       "      <td>DEJA VU - Extended ver.</td>\n",
       "      <td>dave rodgers</td>\n",
       "    </tr>\n",
       "    <tr>\n",
       "      <th>1</th>\n",
       "      <td>Dead Man's Party</td>\n",
       "      <td>Oingo Boingo</td>\n",
       "    </tr>\n",
       "    <tr>\n",
       "      <th>2</th>\n",
       "      <td>Bands (feat. Ohgeesy, Fenix Flexin &amp; Master Kato)</td>\n",
       "      <td>Shoreline Mafia</td>\n",
       "    </tr>\n",
       "    <tr>\n",
       "      <th>3</th>\n",
       "      <td>Turn Away the Bad Thing</td>\n",
       "      <td>Ceremony</td>\n",
       "    </tr>\n",
       "    <tr>\n",
       "      <th>4</th>\n",
       "      <td>Harvey</td>\n",
       "      <td>Her's</td>\n",
       "    </tr>\n",
       "  </tbody>\n",
       "</table>\n",
       "</div>"
      ],
      "text/plain": [
       "                                               track           artist\n",
       "0                            DEJA VU - Extended ver.     dave rodgers\n",
       "1                                   Dead Man's Party     Oingo Boingo\n",
       "2  Bands (feat. Ohgeesy, Fenix Flexin & Master Kato)  Shoreline Mafia\n",
       "3                            Turn Away the Bad Thing         Ceremony\n",
       "4                                             Harvey            Her's"
      ]
     },
     "execution_count": 3,
     "metadata": {},
     "output_type": "execute_result"
    }
   ],
   "source": [
    "my_tracks[['track','artist']].head()"
   ]
  },
  {
   "cell_type": "code",
   "execution_count": 4,
   "metadata": {},
   "outputs": [],
   "source": [
    "def trackClean(string):\n",
    "    #removes common and unique patterns found in track names\n",
    "    #will ensure consistent naming convention for searching genius API\n",
    "    \n",
    "    return re.sub('(( \\(feat.*$)|( \\-.*$)|( \\(Narcos.*$)|( \\(with Dev.*$)|( \\(Version Ska.*$))','',string)"
   ]
  },
  {
   "cell_type": "code",
   "execution_count": 5,
   "metadata": {},
   "outputs": [],
   "source": [
    "#arrays containing track and artist names\n",
    "songs = my_tracks['track'].apply(trackClean)\n",
    "artists = my_tracks['artist']"
   ]
  },
  {
   "cell_type": "code",
   "execution_count": 8,
   "metadata": {},
   "outputs": [],
   "source": [
    "def getLyrics(song_title, artist_name):\n",
    "    \n",
    "    '''\n",
    "    PURPOSE | Searches Genius API for matches based on inputted song and artist information.\n",
    "              If a match is found, function will scrape Genius.com for the songs lyrics\n",
    "              \n",
    "    INPUTS  | song_title (str): title of song\n",
    "              artist_name (str): name of artist\n",
    "    '''\n",
    "    #requests song information from Genius API\n",
    "    \n",
    "    base_url = 'https://api.genius.com'\n",
    "    headers = {'Authorization': 'Bearer ' + 'OFWLAZns_aeQYHap8mBbDD7Y7eGLtLV9z4UyQi0pd7pGUJ4aZ4hX-8kxTl1TAZdm'}\n",
    "    search_url = base_url + '/search'\n",
    "    data = {'q': song_title + ' ' + artist_name}\n",
    "    \n",
    "    #work around for sending so many requests to the API\n",
    "    #lets me wait, then retry the request\n",
    "    session = requests.Session()\n",
    "    retry = Retry(connect=3, backoff_factor=0.5)\n",
    "    adapter = HTTPAdapter(max_retries=retry)\n",
    "    session.mount('http://', adapter)\n",
    "    session.mount('https://', adapter)\n",
    "    \n",
    "    #api response\n",
    "    response = requests.get(search_url, data=data, headers=headers)\n",
    "    \n",
    "    # Search for matches in the request response   \n",
    "    json = response.json()\n",
    "    remote_song_info = None\n",
    "    \n",
    "    #searching for a match\n",
    "    for hit in json['response']['hits']:\n",
    "        if artist_name.lower() in hit['result']['primary_artist']['name'].lower():\n",
    "            remote_song_info = hit\n",
    "            break\n",
    "\n",
    "    #get lyrics from URL if the song was found\n",
    "    if remote_song_info:\n",
    "        song_url = remote_song_info['result']['url']\n",
    "        \n",
    "        #scrapes song lyrics from genius url\n",
    "        page = requests.get(song_url)\n",
    "        html = BeautifulSoup(page.text, 'html.parser')\n",
    "        \n",
    "        #return lyrics\n",
    "        return html.find('div', class_='lyrics').get_text()\n",
    "    \n",
    "    else:\n",
    "        return np.nan"
   ]
  },
  {
   "cell_type": "code",
   "execution_count": 9,
   "metadata": {},
   "outputs": [],
   "source": [
    "lyrics = []\n",
    "\n",
    "for song, artist in zip(songs,artists):\n",
    "    lyrics.append(getLyrics(song, artist))"
   ]
  },
  {
   "cell_type": "code",
   "execution_count": 11,
   "metadata": {},
   "outputs": [],
   "source": [
    "for ind, val in enumerate(lyrics):\n",
    "    \n",
    "    #nan values remain the same\n",
    "    if type(val) == float:\n",
    "        lyrics[ind] = val\n",
    "    \n",
    "    #removing special characters and info within brackets from lyrics\n",
    "    #adding a space at end of line anchor\n",
    "    else:\n",
    "        val = re.sub('((\\\\\\\\n)|(\\\\\\\\u.+?\\d+)|(\\[.+?\\]))','', val)\n",
    "        lyrics[ind] = re.sub('(\\\\n)',' ', val).strip()"
   ]
  },
  {
   "cell_type": "code",
   "execution_count": 12,
   "metadata": {},
   "outputs": [
    {
     "data": {
      "text/plain": [
       "'Yo soy un hombre sincero de onde las calles Y creiro gritar mis versos del alma Hasta La muerte Bebi suficiente palos dos Olvidar nuestro pasado y dejar estos erros astras Recuerdos en la botella Es una cosa que nunca he dicho que estoy Verdaderamente felix en mi alma y mi cabeza Un higado suspendidod en liquido Hasta la muerte Botellas en el aire, lado ah lado Hasta la muerte Te amo, hermanos Son noches como estas, que me levanto a los pies a la tierra Recordando esa sonrisa, no estoy tan solo Hasta la muerte Botellas en el aire, lado ah lado Hasta la muerte, te amo, harmanos Esta es mi vida y me vale lo que peinsan la gente Para mi gente, botellas en el aire Te amo, a toda madre o un desmadre Son noches como estas, que me levanto la cabeza y sourio Me olvido de los recuerdos que tocan como disco rayado Hasta la muerte Botellas en el aire, lado ah lado Hasta la muerte Te amo, hermanos'"
      ]
     },
     "execution_count": 12,
     "metadata": {},
     "output_type": "execute_result"
    }
   ],
   "source": [
    "lyrics[6]"
   ]
  },
  {
   "cell_type": "code",
   "execution_count": 13,
   "metadata": {},
   "outputs": [],
   "source": [
    "my_lyrics = pd.DataFrame()\n",
    "\n",
    "my_lyrics['track'] = my_tracks['track']\n",
    "my_lyrics['artist'] = artists\n",
    "my_lyrics['lyrics'] = lyrics\n"
   ]
  },
  {
   "cell_type": "code",
   "execution_count": 21,
   "metadata": {},
   "outputs": [],
   "source": [
    "my_lyrics.dropna(inplace=True)"
   ]
  },
  {
   "cell_type": "code",
   "execution_count": 23,
   "metadata": {},
   "outputs": [],
   "source": [
    "my_lyrics.reset_index(drop = True, inplace = True)"
   ]
  },
  {
   "cell_type": "code",
   "execution_count": 24,
   "metadata": {},
   "outputs": [
    {
     "data": {
      "text/html": [
       "<div>\n",
       "<style scoped>\n",
       "    .dataframe tbody tr th:only-of-type {\n",
       "        vertical-align: middle;\n",
       "    }\n",
       "\n",
       "    .dataframe tbody tr th {\n",
       "        vertical-align: top;\n",
       "    }\n",
       "\n",
       "    .dataframe thead th {\n",
       "        text-align: right;\n",
       "    }\n",
       "</style>\n",
       "<table border=\"1\" class=\"dataframe\">\n",
       "  <thead>\n",
       "    <tr style=\"text-align: right;\">\n",
       "      <th></th>\n",
       "      <th>track</th>\n",
       "      <th>artist</th>\n",
       "      <th>lyrics</th>\n",
       "    </tr>\n",
       "  </thead>\n",
       "  <tbody>\n",
       "    <tr>\n",
       "      <th>0</th>\n",
       "      <td>DEJA VU - Extended ver.</td>\n",
       "      <td>dave rodgers</td>\n",
       "      <td>See your body into the moonlight Even if I try...</td>\n",
       "    </tr>\n",
       "    <tr>\n",
       "      <th>1</th>\n",
       "      <td>Dead Man's Party</td>\n",
       "      <td>Oingo Boingo</td>\n",
       "      <td>I'm all dressed up with nowhere to go Walkin' ...</td>\n",
       "    </tr>\n",
       "    <tr>\n",
       "      <th>2</th>\n",
       "      <td>Bands (feat. Ohgeesy, Fenix Flexin &amp; Master Kato)</td>\n",
       "      <td>Shoreline Mafia</td>\n",
       "      <td>AceTheFace   This ain't a Milly Rock, this a m...</td>\n",
       "    </tr>\n",
       "    <tr>\n",
       "      <th>3</th>\n",
       "      <td>Turn Away the Bad Thing</td>\n",
       "      <td>Ceremony</td>\n",
       "      <td>I'll say   It's getting harder for me to be al...</td>\n",
       "    </tr>\n",
       "    <tr>\n",
       "      <th>4</th>\n",
       "      <td>No One Lives Forever</td>\n",
       "      <td>Oingo Boingo</td>\n",
       "      <td>You worry too much You make yourself sad You c...</td>\n",
       "    </tr>\n",
       "  </tbody>\n",
       "</table>\n",
       "</div>"
      ],
      "text/plain": [
       "                                               track           artist  \\\n",
       "0                            DEJA VU - Extended ver.     dave rodgers   \n",
       "1                                   Dead Man's Party     Oingo Boingo   \n",
       "2  Bands (feat. Ohgeesy, Fenix Flexin & Master Kato)  Shoreline Mafia   \n",
       "3                            Turn Away the Bad Thing         Ceremony   \n",
       "4                               No One Lives Forever     Oingo Boingo   \n",
       "\n",
       "                                              lyrics  \n",
       "0  See your body into the moonlight Even if I try...  \n",
       "1  I'm all dressed up with nowhere to go Walkin' ...  \n",
       "2  AceTheFace   This ain't a Milly Rock, this a m...  \n",
       "3  I'll say   It's getting harder for me to be al...  \n",
       "4  You worry too much You make yourself sad You c...  "
      ]
     },
     "execution_count": 24,
     "metadata": {},
     "output_type": "execute_result"
    }
   ],
   "source": [
    "my_lyrics.head()"
   ]
  },
  {
   "cell_type": "code",
   "execution_count": 25,
   "metadata": {},
   "outputs": [],
   "source": [
    "my_lyrics.to_csv('my_lyrics.csv', index = False)"
   ]
  },
  {
   "cell_type": "code",
   "execution_count": null,
   "metadata": {},
   "outputs": [],
   "source": []
  }
 ],
 "metadata": {
  "kernelspec": {
   "display_name": "Python 3",
   "language": "python",
   "name": "python3"
  },
  "language_info": {
   "codemirror_mode": {
    "name": "ipython",
    "version": 3
   },
   "file_extension": ".py",
   "mimetype": "text/x-python",
   "name": "python",
   "nbconvert_exporter": "python",
   "pygments_lexer": "ipython3",
   "version": "3.7.1"
  }
 },
 "nbformat": 4,
 "nbformat_minor": 4
}
