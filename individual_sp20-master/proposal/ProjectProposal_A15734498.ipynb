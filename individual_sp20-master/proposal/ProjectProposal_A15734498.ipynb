{
 "cells": [
  {
   "cell_type": "markdown",
   "metadata": {},
   "source": [
    "# COGS 108 - Project Proposal"
   ]
  },
  {
   "cell_type": "markdown",
   "metadata": {},
   "source": [
    "# Names & PID\n",
    "\n",
    "- Name: David Lopez\n",
    "- PID: A15734498"
   ]
  },
  {
   "cell_type": "markdown",
   "metadata": {},
   "source": [
    "# Research Question"
   ]
  },
  {
   "cell_type": "markdown",
   "metadata": {},
   "source": [
    "Are scheduled health inspections just as effective as \"surprise\" inspections when it comes to enforcing food safety regulations?"
   ]
  },
  {
   "cell_type": "markdown",
   "metadata": {},
   "source": [
    "## Background and Prior Work"
   ]
  },
  {
   "cell_type": "markdown",
   "metadata": {},
   "source": [
    "The food safety industry faces a number of challenges, such as deciding what should be enforced, how often a restaurant should be visited, and how to fund inspections [1]. When it comes to the regulations themselves, it is difficult to decide what rules should be dropped and which should remain, as even the most harmless of violation are looked at a \"better safe than sorry\" approach [2]. Even so, the most common violations seem to be the most easily looked over, such as improper cooling and heating of food, and improper handwashing [3]. These sorts of things won't necessarily take an A+ graded restaurant to a B-, but seeing as how these easily-forgotten tasks keep popping up, I believe there is a larger pattern to be drawn.\n",
    "\n",
    "References (include links):\n",
    "- 1) Stueven, Harlan. “Challenges of Health Department Food Safety Inspections.” Food Safety Magazine, www.foodsafetymagazine.com/enewsletter/challenges-of-health-department-food-safety-inspections/.\n",
    "- 2) Roos, Dave. “How Restaurant Health Inspections Work.” HowStuffWorks, HowStuffWorks, 18 Oct. 2017, recipes.howstuffworks.com/tools-and-techniques/restaurant-health-inspections.htm.\n",
    "- 3) Rice, Cindy. “Top 10 Restaurant Food Safety Violations.” Clean with Keystone, www.cleanwithkeystone.com/news-and-insights/top-10-food-safety-violations.\n",
    "- 4) Stueven, Harlan. “Dine out with Confidence.” Dining Grades - Restaurant Food Safety Ratings, www.dininggrades.com/."
   ]
  },
  {
   "cell_type": "markdown",
   "metadata": {},
   "source": [
    "# Hypothesis\n"
   ]
  },
  {
   "cell_type": "markdown",
   "metadata": {},
   "source": [
    "I hypothesize that surprise inspections are most effective at enforcing food safety regulations. Effectiveness being determined by the average number of safety violations that were caught by inspectors for a given restaurant. A null hypothesis would be indicated by similar numbers of infractions between restaurants that receive surprise inspections and restaurants that receive scheduled inspections. Additionally, these restaurants should have a normal variability to their types of infractions.\n",
    "\n",
    "When an inspector notifies a business of their intent to visit their establishment, it is uncertain which businesses are \"putting on an act\" for the inspector, and which ones are being honest. This inconsistency devalues the health scores restaurants receive and thus make it difficult for the field to receive adequate funding for their services [1]. Yet the fact remains, there is a lack of research concerning the optimal style of inspection that can both minimize the number of yearly inspections needed, and maximize their effectiveness. On top of this, the scheduled inspections cannot be fully trusted to accurately portray a restaurants day-to-day. I will look into the type of inspection a restaurant receives, how often they receive it, and a log of their ratings for each given inspection within the past along with a list of their violations."
   ]
  },
  {
   "cell_type": "markdown",
   "metadata": {},
   "source": [
    "# Data"
   ]
  },
  {
   "cell_type": "markdown",
   "metadata": {},
   "source": [
    "My ideal data set would be comprised of restaurants that have been open for a variety of different years, with a minimum of 5 years open. It would include their record for the past 5 years of inspections, I believe this to be an adequate time frame as it gives enough data for a robust trend to be observed within a restaurant, no matter how frequently it was inspected. I will look into the type of inspection a restaurant receives, how often they receive it, and a log of their ratings for each given inspection, along with a list of their violations for each inspection. Additionally I would like to include the type of cuisine served, the location within the city, and buildings maximum capacity. All restaurants will be within San Francisco, CA."
   ]
  },
  {
   "cell_type": "markdown",
   "metadata": {},
   "source": [
    "# Ethics & Privacy"
   ]
  },
  {
   "cell_type": "markdown",
   "metadata": {},
   "source": [
    "All restaurant names and locations will be kept private. Through websites such as DiningGrades.com [4], their grades are already visible to the public, but so as to not put the spotlight on them, they will be kept private. Though it can be troubling to some that I will be taking into account location and cuisine type, I believe this is still ethical. The goal of these parameters is not to single out particular type of restaurant, but if trends were to emerge, this information could be helpful. For example, if a given restaurant is highly rated and never has problems with cross contamination between raw foods it would be great. But this fact becomes more so an outlier if we find that in reality the restaurant in question was strictly vegetarian or vegan. I treat these variable more so as demographic info in order to help with interpretation of the data. Findings will ony be disclosed to food safety officials."
   ]
  }
 ],
 "metadata": {
  "kernelspec": {
   "display_name": "Python 3",
   "language": "python",
   "name": "python3"
  },
  "language_info": {
   "codemirror_mode": {
    "name": "ipython",
    "version": 3
   },
   "file_extension": ".py",
   "mimetype": "text/x-python",
   "name": "python",
   "nbconvert_exporter": "python",
   "pygments_lexer": "ipython3",
   "version": "3.7.1"
  }
 },
 "nbformat": 4,
 "nbformat_minor": 2
}
